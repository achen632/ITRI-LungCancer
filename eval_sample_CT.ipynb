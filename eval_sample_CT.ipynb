{
 "cells": [
  {
   "cell_type": "markdown",
   "metadata": {},
   "source": [
    "# Imports"
   ]
  },
  {
   "cell_type": "code",
   "execution_count": 1,
   "metadata": {},
   "outputs": [],
   "source": [
    "from ultralytics import YOLO\n",
    "import os\n",
    "from azure.storage.blob import BlobServiceClient\n",
    "from pydicom import dcmread\n",
    "from io import BytesIO\n",
    "import numpy as np\n",
    "import cv2\n",
    "import pylidc as pl\n",
    "import matplotlib.pyplot as plt"
   ]
  },
  {
   "cell_type": "markdown",
   "metadata": {},
   "source": [
    "# Helper Functions"
   ]
  },
  {
   "cell_type": "markdown",
   "metadata": {},
   "source": [
    "## Return ann from slice"
   ]
  },
  {
   "cell_type": "code",
   "execution_count": 2,
   "metadata": {},
   "outputs": [],
   "source": [
    "# Return annotations\n",
    "def get_ann_from_slice(patient_id, slice_location):\n",
    "    # Fetch the scan for the patient\n",
    "    scan = pl.query(pl.Scan).filter(pl.Scan.patient_id == patient_id).first()\n",
    "    if not scan:\n",
    "        raise ValueError(f\"No scan found for patient ID {patient_id}\")\n",
    "\n",
    "    # Initialize list to store annotations\n",
    "    annotations = []\n",
    "\n",
    "    # Iterate over all annotations in the scan\n",
    "    for ann in scan.annotations:\n",
    "        for contour in ann.contours:\n",
    "            # Check if the annotation is close to the specified slice location\n",
    "            if abs(contour.image_z_position - slice_location) < scan.slice_spacing:\n",
    "                annotations.append(ann)\n",
    "                break\n",
    "\n",
    "    return annotations"
   ]
  },
  {
   "cell_type": "code",
   "execution_count": null,
   "metadata": {},
   "outputs": [],
   "source": []
  },
  {
   "cell_type": "markdown",
   "metadata": {},
   "source": [
    "## Returns if model result is positive"
   ]
  },
  {
   "cell_type": "code",
   "execution_count": 3,
   "metadata": {},
   "outputs": [],
   "source": [
    "def isNodule(result):\n",
    "    return len(result.boxes.xywh.tolist()) > 0"
   ]
  },
  {
   "cell_type": "markdown",
   "metadata": {},
   "source": [
    "## Draws BBoxes (pred and label) on sample images and saves in outpath"
   ]
  },
  {
   "cell_type": "code",
   "execution_count": 4,
   "metadata": {},
   "outputs": [],
   "source": [
    "def draw_boxes(outpath, name, result, ann):\n",
    "    image = result.orig_img\n",
    "    \n",
    "    for box in result.boxes.xywh:\n",
    "        x_center, y_center, width, height = box.tolist()\n",
    "\n",
    "        # x1 = int(x_center - width / 2)\n",
    "        # y1 = int(y_center - height / 2)\n",
    "        # x2 = int(x_center + width / 2)\n",
    "        # y2 = int(y_center + height / 2)\n",
    "        \n",
    "        cv2.circle(image, (int(x_center), int(y_center)), 15, (0, 255, 0), 2)\n",
    "        \n",
    "        # cv2.rectangle(image, (x1, y1), (x2, y2), (0, 255, 0), 1)\n",
    "    \n",
    "    if len(ann) > 0:\n",
    "        # x_all = []\n",
    "        # y_all = []\n",
    "        for a in ann:\n",
    "            x, y, z = a.centroid\n",
    "            # x_all.append(int(x))\n",
    "            # y_all.append(int(y))\n",
    "            cv2.circle(image, (int(y), int(x)), 25, (0, 0, 255), 2)\n",
    "        # cv2.circle(image, (int(np.mean(y_all)), int(np.mean(x_all))), 15, (0, 0, 255), 2)\n",
    "        \n",
    "    cv2.imwrite(f'{outpath}/{name}.jpg', image)"
   ]
  },
  {
   "cell_type": "markdown",
   "metadata": {},
   "source": [
    "## Returns range of contiguous slices (we include one-apart slices to account for YOLO error)"
   ]
  },
  {
   "cell_type": "code",
   "execution_count": 5,
   "metadata": {},
   "outputs": [],
   "source": [
    "def get_contiguous_slice(i, arr):\n",
    "    while i >= 0 and (arr[i-1] == arr[i]-1 or arr[i-1] == arr[i]-2):\n",
    "        i -= 1\n",
    "    start = i\n",
    "    while i < len(arr)-1 and (arr[i+1] == arr[i]+1 or arr[i+1] == arr[i]+2):\n",
    "        i += 1\n",
    "    return range(arr[start], arr[i])"
   ]
  },
  {
   "cell_type": "markdown",
   "metadata": {},
   "source": [
    "## Returns range of contiguous slices looking based on bbox"
   ]
  },
  {
   "cell_type": "code",
   "execution_count": 6,
   "metadata": {},
   "outputs": [],
   "source": [
    "def get_contiguous_box(i, arr):\n",
    "    prev = arr[i-1]\n",
    "    curr = arr[i]\n",
    "    next = arr[i+1]\n",
    "    \n",
    "    while i >= 0 and (arr[i-1] == arr[i]-1 or arr[i-1] == arr[i]-2):\n",
    "        i -= 1\n",
    "    start = i\n",
    "    while i < len(arr)-1 and (arr[i+1] == arr[i]+1 or arr[i+1] == arr[i]+2):\n",
    "        i += 1\n",
    "    return range(arr[start], arr[i])"
   ]
  },
  {
   "cell_type": "markdown",
   "metadata": {},
   "source": [
    "## Adds bounding box center x and y to boxes[]"
   ]
  },
  {
   "cell_type": "code",
   "execution_count": 7,
   "metadata": {},
   "outputs": [],
   "source": [
    "def getBoundingBox(result):\n",
    "    boxes = []\n",
    "    for coords in result.boxes.xywh.tolist():\n",
    "        x = int(coords[0])\n",
    "        y = int(coords[1])\n",
    "        w = int(coords[2])\n",
    "        h = int(coords[3])\n",
    "        boxes.append([x, y, w, h])\n",
    "    return boxes"
   ]
  },
  {
   "cell_type": "markdown",
   "metadata": {},
   "source": [
    "## Returns true if two bounding boxes are referring to the same nodule"
   ]
  },
  {
   "cell_type": "code",
   "execution_count": 8,
   "metadata": {},
   "outputs": [],
   "source": [
    "def same_box(box1, box2):\n",
    "    threshold = 10\n",
    "    return (abs(box1[0] - box2[0]) < threshold and\n",
    "            abs(box1[1] - box2[1]) < threshold and\n",
    "            abs(box1[2] - box2[2]) < threshold and\n",
    "            abs(box1[3] - box2[3]) < threshold)"
   ]
  },
  {
   "cell_type": "markdown",
   "metadata": {},
   "source": [
    "## Functions for identifying 3D nodules"
   ]
  },
  {
   "cell_type": "code",
   "execution_count": 9,
   "metadata": {},
   "outputs": [],
   "source": [
    "# Returns if two bounding boxes are the same\n",
    "def compare_boxes(box1, box2):\n",
    "    thresh = 15\n",
    "    return (abs(box1[0]-box2[0]) < thresh and\n",
    "            abs(box1[1]-box2[1]) < thresh and\n",
    "            abs(box1[2]-box2[2]) < thresh and\n",
    "            abs(box1[3]-box2[3]) < thresh)\n",
    "\n",
    "# Returns if a slice contains a box similar to the reference box\n",
    "def check_slice_for_box(slice, ref):\n",
    "    for box in slice:\n",
    "        if compare_boxes(box, ref):\n",
    "            return True\n",
    "    return False\n",
    "\n",
    "# Checks for one-apart slices\n",
    "def first_slice_one_apart(index, boxes, ref):\n",
    "    if index > 0:\n",
    "        return check_slice_for_box(boxes[index-1], ref)\n",
    "    return False\n",
    "\n",
    "# Checks for one-apart slices\n",
    "def last_slice_one_apart(index, boxes, ref):\n",
    "    if index < len(boxes)-1:\n",
    "        return check_slice_for_box(boxes[index+1], ref)\n",
    "    return False\n",
    "\n",
    "# Returns index of first slice with a matching box\n",
    "def get_first_slice(index, boxes, ref):\n",
    "    while index >= 0:\n",
    "        if check_slice_for_box(boxes[index], ref):\n",
    "            index -= 1\n",
    "        elif first_slice_one_apart(index, boxes, ref):\n",
    "            index -= 2\n",
    "        else:\n",
    "            break\n",
    "    return index+1\n",
    "\n",
    "# Returns index of last slice with a matching box\n",
    "def get_last_slice(index, boxes, ref):\n",
    "    while index < len(boxes):\n",
    "        if check_slice_for_box(boxes[index], ref):\n",
    "            index += 1\n",
    "        elif last_slice_one_apart(index, boxes, ref):\n",
    "            index += 2\n",
    "        else:\n",
    "            break\n",
    "    return index-1\n",
    "\n",
    "# Returns number of slices that contain a box similar to the reference box\n",
    "def get_num_slices(index, boxes, ref):\n",
    "    first = get_first_slice(index-1, boxes, ref)\n",
    "    last = get_last_slice(index+1, boxes, ref)\n",
    "    return last-first+1\n",
    "\n",
    "# Returns the max number of contiguous slices that has a matching box\n",
    "def get_num_relevant_slices(index, boxes):\n",
    "    max = 0\n",
    "    for box in boxes[index]:\n",
    "        num = get_num_slices(index, boxes, box)\n",
    "        if num > max:\n",
    "            max = num\n",
    "    return max"
   ]
  },
  {
   "cell_type": "markdown",
   "metadata": {},
   "source": [
    "# Generate Results"
   ]
  },
  {
   "cell_type": "markdown",
   "metadata": {},
   "source": [
    "## Create arrays that store image_paths (for model) and annotations"
   ]
  },
  {
   "cell_type": "code",
   "execution_count": 10,
   "metadata": {},
   "outputs": [],
   "source": [
    "path = '/home/andrew/ITRI-LungCancer/sample/'\n",
    "imgs = os.listdir(path)\n",
    "imgs.sort()\n",
    "\n",
    "model_input = []\n",
    "annotations = []\n",
    "for i, img in enumerate(imgs):\n",
    "    patient_id = img.split('_')[0]\n",
    "    slice_location = float(img.split('_')[-1].split('.')[0])\n",
    "    \n",
    "    annotations.append(get_ann_from_slice(patient_id, slice_location))\n",
    "    model_input.append(path+img)"
   ]
  },
  {
   "cell_type": "markdown",
   "metadata": {},
   "source": [
    "## Recreate dirs"
   ]
  },
  {
   "cell_type": "code",
   "execution_count": 11,
   "metadata": {},
   "outputs": [],
   "source": [
    "!rm -rf /home/andrew/ITRI-LungCancer/sample_out\n",
    "!mkdir -p /home/andrew/ITRI-LungCancer/sample_out"
   ]
  },
  {
   "cell_type": "markdown",
   "metadata": {},
   "source": [
    "## Draw bboxes on imags and save to outpath\n",
    "## Create anns and outs arrays that store which slices have annotations"
   ]
  },
  {
   "cell_type": "code",
   "execution_count": 12,
   "metadata": {},
   "outputs": [],
   "source": [
    "outpath = '/home/andrew/ITRI-LungCancer/sample_out/'\n",
    "\n",
    "anns = []\n",
    "outputs = []\n",
    "boxes = []\n",
    "\n",
    "model = YOLO('/home/andrew/ITRI-LungCancer/YOLO/model_slimjim.pt')\n",
    "\n",
    "for path, ann in zip(model_input, annotations):\n",
    "    result = model(path, verbose=False, conf=0.3, iou=0.0, augment=True)[0]\n",
    "    slice_num = int(path.split('_')[1])\n",
    "    box = []\n",
    "\n",
    "    has_annotation = False\n",
    "    if isNodule(result):\n",
    "        has_annotation = True\n",
    "        \n",
    "    outputs.append(slice_num)\n",
    "    boxes.append(getBoundingBox(result))\n",
    "\n",
    "    if len(ann) > 0:\n",
    "        anns.append(slice_num)\n",
    "        has_annotation = True\n",
    "\n",
    "    if has_annotation:\n",
    "        draw_boxes(outpath, path.split('_')[-2], result, ann)"
   ]
  },
  {
   "cell_type": "code",
   "execution_count": 19,
   "metadata": {},
   "outputs": [
    {
     "name": "stdout",
     "output_type": "stream",
     "text": [
      "[1, 2, 3, 4, 5, 6, 7, 8, 9, 10, 11, 12, 13, 14, 15, 16, 17, 18, 19, 20, 21, 22, 23, 24, 25, 26, 27, 28, 29, 30, 31, 32, 33, 34, 35, 36, 37, 38, 39, 40, 41, 42, 43, 44, 45, 46, 47, 48, 49, 50, 51, 52, 53, 54, 55, 56, 57, 58, 59, 60, 61, 62, 63, 64, 65, 66, 67, 68, 69, 70, 71, 72, 73, 74, 75, 76, 77, 78, 79, 80, 81, 82, 83, 84, 85, 86, 87, 88, 89, 90, 91, 92, 93, 94, 95, 96, 97, 98, 99, 100, 101, 102, 103, 104, 105, 106, 107, 108, 109, 110, 111, 112, 113, 114, 115, 116, 117, 118, 119, 120, 121, 122, 123, 124, 125, 126, 127, 128, 129, 130, 131, 132, 133, 134, 135, 136, 137, 138, 139, 140, 141, 142, 143, 144, 145, 146, 147, 148, 149, 150, 151, 152, 153, 154, 155, 156, 157, 158, 159, 160, 161, 162, 163, 164, 165, 166, 167, 168, 169, 170, 171, 172, 173, 174, 175, 176, 177, 178, 179, 180, 181, 182, 183, 184, 185, 186, 187, 188, 189, 190, 191, 192, 193, 194, 195, 196, 197, 198, 199, 200, 201, 202, 203, 204, 205, 206, 207, 208, 209, 210, 211, 212, 213, 214, 215, 216, 217, 218, 219, 220, 221, 222, 223, 224, 225, 226, 227, 228, 229, 230, 231, 232, 233, 234, 235, 236, 237, 238, 239, 240, 241, 242, 243, 244, 245, 246, 247, 248, 249, 250, 251, 252, 253, 254, 255, 256, 257, 258, 259, 260, 261, 262, 263, 264, 265, 266, 267, 268, 269, 270, 271, 272, 273, 274, 275, 276, 277, 278, 279, 280, 281, 282, 283, 284, 285, 286, 287, 288, 289, 290, 291, 292, 293, 294, 295, 296, 297, 298, 299, 300, 301, 302, 303, 304, 305, 306, 307, 308, 309, 310, 311, 312, 313, 314, 315, 316, 317, 318, 319, 320, 321, 322, 323, 324, 325, 326, 327, 328, 329, 330, 331, 332, 333, 334, 335, 336, 337, 338, 339, 340, 341, 342, 343, 344, 345, 346, 347, 348, 349, 350, 351, 352, 353, 354, 355, 356, 357, 358, 359, 360, 361, 362, 363, 364, 365, 366, 367, 368, 369, 370, 371, 372, 373, 374, 375, 376, 377, 378, 379, 380, 381, 382, 383, 384, 385, 386, 387, 388, 389, 390, 391, 392, 393, 394, 395, 396, 397, 398, 399, 400, 401, 402, 403, 404, 405, 406, 407, 408, 409, 410, 411, 412, 413, 414, 415, 416, 417, 418, 419, 420, 421, 422, 423, 424, 425, 426, 427, 428, 429, 430, 431, 432, 433, 434, 435, 436, 437, 438, 439, 440, 441, 442, 443, 444, 445, 446, 447, 448, 449, 450, 451, 452, 453, 454, 455, 456, 457, 458, 459, 460, 461, 462, 463, 464, 465, 466, 467, 468, 469, 470, 471, 472, 473, 474, 475, 476, 477, 478, 479, 480, 481, 482, 483, 484, 485, 486, 487]\n",
      "[168, 169, 170, 171, 172, 173, 174, 175, 176, 177, 178, 179, 180, 242, 243, 244, 245, 246, 247, 248]\n"
     ]
    }
   ],
   "source": [
    "# Filter out slices with less than 5 contiguous slices\n",
    "print(outputs)\n",
    "outs = []\n",
    "for i, slice in enumerate(outputs):\n",
    "    if get_num_relevant_slices(i, boxes) >= 5:\n",
    "        outs.append(slice)\n",
    "print(outs)"
   ]
  },
  {
   "cell_type": "code",
   "execution_count": 20,
   "metadata": {},
   "outputs": [
    {
     "name": "stderr",
     "output_type": "stream",
     "text": [
      "/tmp/ipykernel_97394/857986973.py:24: UserWarning: No artists with labels found to put in legend.  Note that artists whose label start with an underscore are ignored when legend() is called with no argument.\n",
      "  plt.legend()\n"
     ]
    },
    {
     "data": {
      "image/png": "[encoded data removed]",
      "text/plain": [
       "<Figure size 1000x500 with 1 Axes>"
      ]
     },
     "metadata": {},
     "output_type": "display_data"
    }
   ],
   "source": [
    "# Determines max y value to show on graph\n",
    "y_max = max(anns[-1], outs[-1]) + 1\n",
    "\n",
    "# Create an array of zeros for the range 0-200\n",
    "presence = [0] * y_max\n",
    "presence2 = [0] * y_max\n",
    "\n",
    "# Mark presence of each value in the list\n",
    "for value in anns:\n",
    "    presence[value] = 1\n",
    "    \n",
    "for value in outs:\n",
    "    presence2[value] = 1\n",
    "\n",
    "# Plotting\n",
    "plt.figure(figsize=(10, 5))\n",
    "plt.bar(range(y_max), presence, width=1.0, alpha=.5)\n",
    "plt.bar(range(y_max), presence2, width=1.0, alpha=.5)\n",
    "plt.xlabel('Slice Num')\n",
    "plt.ylabel('Presence (1 if present, 0 if not)')\n",
    "patient_id = path.split('_')[0].split('/')[-1]\n",
    "plt.title(f'Presence of Values from 0 to {y_max} for {patient_id}')\n",
    "plt.xticks(range(0, y_max, 10))\n",
    "plt.legend()\n",
    "\n",
    "plt.show()"
   ]
  }
 ],
 "metadata": {
  "kernelspec": {
   "display_name": "env",
   "language": "python",
   "name": "python3"
  },
  "language_info": {
   "codemirror_mode": {
    "name": "ipython",
    "version": 3
   },
   "file_extension": ".py",
   "mimetype": "text/x-python",
   "name": "python",
   "nbconvert_exporter": "python",
   "pygments_lexer": "ipython3",
   "version": "3.10.12"
  }
 },
 "nbformat": 4,
 "nbformat_minor": 2
}
