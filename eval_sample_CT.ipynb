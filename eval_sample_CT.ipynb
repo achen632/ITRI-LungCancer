{
 "cells": [
  {
   "cell_type": "markdown",
   "metadata": {},
   "source": [
    "# Imports"
   ]
  },
  {
   "cell_type": "code",
   "execution_count": 170,
   "metadata": {},
   "outputs": [],
   "source": [
    "from ultralytics import YOLO\n",
    "import os\n",
    "from azure.storage.blob import BlobServiceClient\n",
    "from pydicom import dcmread\n",
    "from io import BytesIO\n",
    "import numpy as np\n",
    "import cv2\n",
    "import pylidc as pl"
   ]
  },
  {
   "cell_type": "markdown",
   "metadata": {},
   "source": [
    "# Helper Functions"
   ]
  },
  {
   "cell_type": "markdown",
   "metadata": {},
   "source": [
    "## Return ann from slice"
   ]
  },
  {
   "cell_type": "code",
   "execution_count": 171,
   "metadata": {},
   "outputs": [],
   "source": [
    "# Return annotations\n",
    "def get_ann_from_slice(patient_id, slice_location):\n",
    "    # Fetch the scan for the patient\n",
    "    scan = pl.query(pl.Scan).filter(pl.Scan.patient_id == patient_id).first()\n",
    "    if not scan:\n",
    "        raise ValueError(f\"No scan found for patient ID {patient_id}\")\n",
    "\n",
    "    # Initialize list to store annotations\n",
    "    annotations = []\n",
    "\n",
    "    # Iterate over all annotations in the scan\n",
    "    for ann in scan.annotations:\n",
    "        for contour in ann.contours:\n",
    "            # Check if the annotation is close to the specified slice location\n",
    "            if abs(contour.image_z_position - slice_location) < scan.slice_spacing:\n",
    "                annotations.append(ann)\n",
    "                break\n",
    "\n",
    "    return annotations"
   ]
  },
  {
   "cell_type": "markdown",
   "metadata": {},
   "source": [
    "## Returns if model result is positive"
   ]
  },
  {
   "cell_type": "code",
   "execution_count": 172,
   "metadata": {},
   "outputs": [],
   "source": [
    "def isNodule(result):\n",
    "    return int(len(result.boxes.xywh.tolist()) > 0)"
   ]
  },
  {
   "cell_type": "markdown",
   "metadata": {},
   "source": [
    "# Generate Results"
   ]
  },
  {
   "cell_type": "code",
   "execution_count": 173,
   "metadata": {},
   "outputs": [],
   "source": [
    "model = YOLO('/home/andrew/ITRI-LungCancer/YOLO/model.pt')\n",
    "\n",
    "path = '/home/andrew/ITRI-LungCancer/sample/'\n",
    "imgs = os.listdir(path)\n",
    "imgs.sort()\n",
    "\n",
    "model_input = []\n",
    "annotations = []\n",
    "for i, img in enumerate(imgs):\n",
    "    patient_id = img.split('_')[0]\n",
    "    slice_location = float(img.split('_')[-1].split('.')[0])\n",
    "    \n",
    "    annotations.append(get_ann_from_slice(patient_id, slice_location))\n",
    "    model_input.append(path+img)\n",
    "results = model(model_input, verbose=False)"
   ]
  },
  {
   "cell_type": "markdown",
   "metadata": {},
   "source": [
    "# Compare"
   ]
  },
  {
   "cell_type": "code",
   "execution_count": 174,
   "metadata": {},
   "outputs": [
    {
     "name": "stderr",
     "output_type": "stream",
     "text": [
      "4701.54s - pydevd: Sending message related to process being replaced timed-out after 5 seconds\n",
      "4706.71s - pydevd: Sending message related to process being replaced timed-out after 5 seconds\n"
     ]
    }
   ],
   "source": [
    "!rm -rf /home/andrew/ITRI-LungCancer/sample_out\n",
    "!mkdir -p /home/andrew/ITRI-LungCancer/sample_out\n",
    "\n",
    "outpath = '/home/andrew/ITRI-LungCancer/sample_out/'\n",
    "\n",
    "for result, ann, name, in zip(results, annotations, imgs):\n",
    "    if isNodule(result):\n",
    "        x_center, y_center, width, height = result.boxes.xywh[0].tolist()\n",
    "\n",
    "        x1 = int(x_center - width / 2)\n",
    "        y1 = int(y_center - height / 2)\n",
    "        x2 = int(x_center + width / 2)\n",
    "        y2 = int(y_center + height / 2)\n",
    "\n",
    "        image = result.orig_img\n",
    "        cv2.rectangle(image, (x1, y1), (x2, y2), (0, 255, 0), 1)\n",
    "        \n",
    "        if ann != []:\n",
    "            for a in ann:\n",
    "                x, y, z = a.centroid\n",
    "                x = int(x)\n",
    "                y = int(y)\n",
    "                cv2.circle(image, (y, x), 15, (0, 0, 255), 1)\n",
    "        cv2.imwrite(f'{outpath}/{name}.jpg', image)"
   ]
  }
 ],
 "metadata": {
  "kernelspec": {
   "display_name": "env",
   "language": "python",
   "name": "python3"
  },
  "language_info": {
   "codemirror_mode": {
    "name": "ipython",
    "version": 3
   },
   "file_extension": ".py",
   "mimetype": "text/x-python",
   "name": "python",
   "nbconvert_exporter": "python",
   "pygments_lexer": "ipython3",
   "version": "3.10.12"
  }
 },
 "nbformat": 4,
 "nbformat_minor": 2
}
