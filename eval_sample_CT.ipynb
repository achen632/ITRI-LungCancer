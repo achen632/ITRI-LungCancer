{
 "cells": [
  {
   "cell_type": "markdown",
   "metadata": {},
   "source": [
    "# Imports"
   ]
  },
  {
   "cell_type": "code",
   "execution_count": null,
   "metadata": {},
   "outputs": [],
   "source": [
    "from ultralytics import YOLO\n",
    "import os\n",
    "from azure.storage.blob import BlobServiceClient\n",
    "from pydicom import dcmread\n",
    "from io import BytesIO\n",
    "import numpy as np\n",
    "import cv2\n",
    "import pylidc as pl\n",
    "import matplotlib.pyplot as plt\n",
    "import eval_CT_helper as help"
   ]
  },
  {
   "cell_type": "markdown",
   "metadata": {},
   "source": [
    "# Recreate dirs"
   ]
  },
  {
   "cell_type": "code",
   "execution_count": null,
   "metadata": {},
   "outputs": [],
   "source": [
    "!rm -rf /home/andrew/ITRI-LungCancer/sample_out\n",
    "!mkdir -p /home/andrew/ITRI-LungCancer/sample_out"
   ]
  },
  {
   "cell_type": "markdown",
   "metadata": {},
   "source": [
    "# Load arrays with annotations and filepaths"
   ]
  },
  {
   "cell_type": "code",
   "execution_count": null,
   "metadata": {},
   "outputs": [],
   "source": [
    "path = '/home/andrew/ITRI-LungCancer/sample/'\n",
    "imgs = os.listdir(path)\n",
    "imgs.sort()\n",
    "\n",
    "image_paths = []\n",
    "labels = []\n",
    "for i, img in enumerate(imgs):\n",
    "    patient_id = img.split('_')[0]\n",
    "    slice_location = float(img.split('_')[-1].split('.')[0])\n",
    "    \n",
    "    # Get annotations then bboxes\n",
    "    ann = help.get_ann_from_slice(patient_id, slice_location)\n",
    "    label = help.ann_to_bbox(ann)\n",
    "    labels.append(label)\n",
    "    \n",
    "    # Save image paths for later\n",
    "    image_paths.append(path+img)"
   ]
  },
  {
   "cell_type": "markdown",
   "metadata": {},
   "source": [
    "# Run model and store annotations"
   ]
  },
  {
   "cell_type": "code",
   "execution_count": null,
   "metadata": {},
   "outputs": [],
   "source": [
    "outpath = '/home/andrew/ITRI-LungCancer/sample_out/'\n",
    "model = YOLO('/home/andrew/ITRI-LungCancer/YOLO/model_classify_rgb.pt')\n",
    "preds = []\n",
    "\n",
    "# Run model on images and save bounding boxes\n",
    "for i, (path, ann) in enumerate(zip(image_paths, labels)):\n",
    "    result = model(path, verbose=False, conf=0.3, iou=0.0, augment=True)[0]\n",
    "    preds.append(help.getBoundingBox(result))"
   ]
  },
  {
   "cell_type": "markdown",
   "metadata": {},
   "source": [
    "# Zip up predictions with labels"
   ]
  },
  {
   "cell_type": "code",
   "execution_count": 65,
   "metadata": {},
   "outputs": [
    {
     "data": {
      "text/plain": [
       "[(43, [[213, 169, 14, 17]], []),\n",
       " (44, [[212, 166, 23, 26]], [[203, 152, 23, 28]]),\n",
       " (45, [[214, 165, 25, 28]], [[203, 152, 23, 28]]),\n",
       " (46, [[214, 166, 25, 29]], [[203, 152, 23, 28]]),\n",
       " (47, [[213, 167, 22, 29]], [[203, 152, 23, 28]]),\n",
       " (48, [[213, 168, 23, 25]], [[203, 152, 23, 28]]),\n",
       " (49, [[214, 169, 23, 24]], []),\n",
       " (56, [[381, 255, 26, 25]], [[363, 238, 39, 29]]),\n",
       " (57, [[384, 256, 35, 30]], [[363, 239, 37, 28]]),\n",
       " (58, [[384, 254, 39, 37]], [[363, 239, 37, 28]]),\n",
       " (59, [[381, 254, 41, 33]], [[363, 239, 37, 28]]),\n",
       " (60, [[383, 252, 39, 37]], [[363, 239, 37, 28]]),\n",
       " (61, [[385, 254, 39, 30]], [[363, 239, 37, 28]]),\n",
       " (62, [[380, 256, 26, 24]], [[363, 239, 37, 28]]),\n",
       " (63, [], [[361, 238, 42, 30]]),\n",
       " (64, [], [[361, 238, 42, 30]]),\n",
       " (72, [], [[389, 283, 33, 27]]),\n",
       " (73, [], [[389, 283, 33, 27]]),\n",
       " (74, [], [[389, 283, 33, 27]]),\n",
       " (75, [], [[389, 283, 33, 27]]),\n",
       " (76, [], [[389, 283, 33, 27]]),\n",
       " (77, [], [[389, 283, 33, 27]]),\n",
       " (78, [], [[389, 283, 33, 27]]),\n",
       " (79, [], [[389, 283, 33, 27]]),\n",
       " (80, [], [[389, 283, 33, 27]])]"
      ]
     },
     "execution_count": 65,
     "metadata": {},
     "output_type": "execute_result"
    }
   ],
   "source": [
    "combined = []\n",
    "for i, (pred, label) in enumerate(zip(preds, labels)):\n",
    "    # Remove slices that don't have enough contiguous slices\n",
    "    if help.get_num_relevant_slices(i, preds) < 4:\n",
    "        pred = []\n",
    "    if help.get_num_relevant_slices(i, labels) < 4:\n",
    "        label = []\n",
    "        \n",
    "    # Ignore null entries\n",
    "    if pred == [] and label == []:\n",
    "        continue\n",
    "    combined.append((i, pred, label))\n",
    "combined"
   ]
  },
  {
   "cell_type": "code",
   "execution_count": 81,
   "metadata": {},
   "outputs": [
    {
     "name": "stderr",
     "output_type": "stream",
     "text": [
      "/tmp/ipykernel_63850/3525159993.py:25: UserWarning: No artists with labels found to put in legend.  Note that artists whose label start with an underscore are ignored when legend() is called with no argument.\n",
      "  plt.legend()\n"
     ]
    },
    {
     "data": {
      "image/png": "[encoded data removed]",
      "text/plain": [
       "<Figure size 1000x500 with 1 Axes>"
      ]
     },
     "metadata": {},
     "output_type": "display_data"
    }
   ],
   "source": [
    "# Determines max y value to show on graph\n",
    "y_min = combined[0][0]\n",
    "y_max = combined[-1][0]\n",
    "\n",
    "# Create an array of zeros for the range 0-200\n",
    "label_presence = [0] * (y_max-y_min)\n",
    "pred_presence = [0] * (y_max-y_min)\n",
    "\n",
    "# Mark presence of each value in the list\n",
    "for entry in combined:\n",
    "    if entry[1] != []:\n",
    "        pred_presence[entry[0]-y_max] = 1\n",
    "    if entry[2] != []:\n",
    "        label_presence[entry[0]-y_max] = 1\n",
    "\n",
    "# Plotting\n",
    "plt.figure(figsize=(10, 5))\n",
    "plt.bar(range(y_min, y_max), label_presence, width=1.0, alpha=.5)\n",
    "plt.bar(range(y_min, y_max), pred_presence, width=1.0, alpha=.5)\n",
    "plt.xlabel('Slice Num')\n",
    "plt.ylabel('Presence (1 if present, 0 if not)')\n",
    "patient_id = path.split('_')[0].split('/')[-1]\n",
    "plt.title(f'Presence of Values from {y_min} to {y_max} for {patient_id}')\n",
    "plt.xticks(range(y_min, y_max, 10))\n",
    "plt.legend()\n",
    "\n",
    "plt.show()"
   ]
  },
  {
   "cell_type": "code",
   "execution_count": null,
   "metadata": {},
   "outputs": [],
   "source": [
    "combined"
   ]
  }
 ],
 "metadata": {
  "kernelspec": {
   "display_name": "env",
   "language": "python",
   "name": "python3"
  },
  "language_info": {
   "codemirror_mode": {
    "name": "ipython",
    "version": 3
   },
   "file_extension": ".py",
   "mimetype": "text/x-python",
   "name": "python",
   "nbconvert_exporter": "python",
   "pygments_lexer": "ipython3",
   "version": "3.10.12"
  }
 },
 "nbformat": 4,
 "nbformat_minor": 2
}
