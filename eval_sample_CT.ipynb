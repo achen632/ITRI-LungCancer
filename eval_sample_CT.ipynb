{
 "cells": [
  {
   "cell_type": "markdown",
   "metadata": {},
   "source": [
    "# Imports"
   ]
  },
  {
   "cell_type": "code",
   "execution_count": 2,
   "metadata": {},
   "outputs": [],
   "source": [
    "from ultralytics import YOLO\n",
    "import os\n",
    "from azure.storage.blob import BlobServiceClient\n",
    "from pydicom import dcmread\n",
    "from io import BytesIO\n",
    "import numpy as np\n",
    "import cv2\n",
    "import pylidc as pl"
   ]
  },
  {
   "cell_type": "markdown",
   "metadata": {},
   "source": [
    "# Connect to Blob"
   ]
  },
  {
   "cell_type": "code",
   "execution_count": 3,
   "metadata": {},
   "outputs": [],
   "source": [
    "with open('/home/andrew/ITRI-LungCancer/keys.txt', 'r') as file:\n",
    "    data = file.read().splitlines()\n",
    "    account_name    = data[0]\n",
    "    account_key     = data[1]\n",
    "    container_name  = data[2]\n",
    "\n",
    "blob_service_client = BlobServiceClient(account_url=f\"https://{account_name}.blob.core.windows.net\", credential=account_key)\n",
    "container_client = blob_service_client.get_container_client(container_name)\n",
    "blob_name_list = container_client.list_blob_names()"
   ]
  },
  {
   "cell_type": "code",
   "execution_count": null,
   "metadata": {},
   "outputs": [],
   "source": [
    "blob_name = next(blob_name_list)\n",
    "scan_name = blob_name.split('/')[0]\n",
    "slice_num = blob_name.split('/')[3].split('-')[1]\n",
    "\n",
    "blob_client = container_client.get_blob_client(blob_name)\n",
    "blob_data = blob_client.download_blob().readall()\n",
    "blob_stream = BytesIO(blob_data)\n",
    "ds = dcmread(blob_stream)\n",
    "\n",
    "scan = pl.query(pl.Scan).filter(pl.Scan.patient_id == ds.PatientID).first()\n",
    "slice_location = ds.ImagePositionPatient[2]\n",
    "\n",
    "for ann_count, ann in enumerate(scan.annotations):\n",
    "    for contour in ann.contours:\n",
    "        if abs(contour.image_z_position - slice_location) < scan.slice_spacing:\n",
    "            asd"
   ]
  },
  {
   "cell_type": "code",
   "execution_count": null,
   "metadata": {},
   "outputs": [],
   "source": [
    "model = YOLO('/home/andrew/ITRI-LungCancer/YOLO/model.pt')\n",
    "\n",
    "path = '/home/andrew/ITRI-LungCancer/sample/'\n",
    "imgs = os.listdir(path)\n",
    "imgs.sort()\n",
    "\n",
    "model_input = []\n",
    "for img in imgs:\n",
    "    model_input.append(path+img)\n",
    "\n",
    "results = model(model_input, conf=0.5, verbose=True)\n",
    "\n",
    "result = results[0]\n",
    "print(result.boxes)"
   ]
  }
 ],
 "metadata": {
  "kernelspec": {
   "display_name": "env",
   "language": "python",
   "name": "python3"
  },
  "language_info": {
   "codemirror_mode": {
    "name": "ipython",
    "version": 3
   },
   "file_extension": ".py",
   "mimetype": "text/x-python",
   "name": "python",
   "nbconvert_exporter": "python",
   "pygments_lexer": "ipython3",
   "version": "3.10.12"
  }
 },
 "nbformat": 4,
 "nbformat_minor": 2
}
