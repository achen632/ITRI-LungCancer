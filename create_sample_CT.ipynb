{
 "cells": [
  {
   "cell_type": "markdown",
   "metadata": {},
   "source": [
    "Create collection of CT scan JPGs and store in /sample"
   ]
  },
  {
   "cell_type": "markdown",
   "metadata": {},
   "source": [
    "# Import"
   ]
  },
  {
   "cell_type": "code",
   "execution_count": 116,
   "metadata": {},
   "outputs": [],
   "source": [
    "from azure.storage.blob import BlobServiceClient\n",
    "from pydicom import dcmread\n",
    "from io import BytesIO\n",
    "import numpy as np\n",
    "import cv2\n",
    "import pylidc as pl"
   ]
  },
  {
   "cell_type": "markdown",
   "metadata": {},
   "source": [
    "# Connect to Blob"
   ]
  },
  {
   "cell_type": "code",
   "execution_count": 117,
   "metadata": {},
   "outputs": [],
   "source": [
    "with open('/home/andrew/ITRI-LungCancer/keys.txt', 'r') as file:\n",
    "    data = file.read().splitlines()\n",
    "    account_name    = data[0]\n",
    "    account_key     = data[1]\n",
    "    container_name  = data[2]\n",
    "\n",
    "blob_service_client = BlobServiceClient(account_url=f\"https://{account_name}.blob.core.windows.net\", credential=account_key)\n",
    "container_client = blob_service_client.get_container_client(container_name)\n",
    "blob_name_list = container_client.list_blob_names()"
   ]
  },
  {
   "cell_type": "markdown",
   "metadata": {},
   "source": [
    "# Helper Functions for Creating Dataset"
   ]
  },
  {
   "cell_type": "code",
   "execution_count": 118,
   "metadata": {},
   "outputs": [],
   "source": [
    "def window_img(img, window_center, window_width):\n",
    "    win_min = window_center - window_width / 2.0\n",
    "    win_max = window_center + window_width / 2.0\n",
    "    img = np.clip(img, win_min, win_max)\n",
    "    img = (img - win_min) / (win_max - win_min)\n",
    "    img = np.uint8(img * 255)\n",
    "    return img\n",
    "\n",
    "def rescale_img(ds, img):\n",
    "    if 'RescaleIntercept' in ds and 'RescaleSlope' in ds:\n",
    "        img = img * ds.RescaleSlope + ds.RescaleIntercept\n",
    "    return img\n",
    "\n",
    "def change_file_num(blob_name, val):\n",
    "    path = blob_name[0:-7]\n",
    "    num = int(blob_name[-7:-4])\n",
    "    return path+str(num+val).zfill(3)+'.dcm'\n",
    "    \n",
    "def get_dicom(blob_name):\n",
    "    blob_client = container_client.get_blob_client(blob_name)\n",
    "    blob_data = blob_client.download_blob().readall()\n",
    "    blob_stream = BytesIO(blob_data)\n",
    "    return dcmread(blob_stream)\n",
    "\n",
    "def get_image(blob_name):\n",
    "    try:\n",
    "        ds = get_dicom(blob_name)\n",
    "    except:\n",
    "        return np.zeros((512, 512), dtype=np.uint8)\n",
    "    image = rescale_img(ds, ds.pixel_array)\n",
    "    image = window_img(image, -300, 2000)\n",
    "    return image"
   ]
  },
  {
   "cell_type": "markdown",
   "metadata": {},
   "source": [
    "# Recreate directories"
   ]
  },
  {
   "cell_type": "code",
   "execution_count": 119,
   "metadata": {},
   "outputs": [],
   "source": [
    "!rm -rf /home/andrew/ITRI-LungCancer/sample/\n",
    "!mkdir -p /home/andrew/ITRI-LungCancer/sample"
   ]
  },
  {
   "cell_type": "markdown",
   "metadata": {},
   "source": [
    "# Create sample dataset from a single CT scan\n"
   ]
  },
  {
   "cell_type": "code",
   "execution_count": 120,
   "metadata": {},
   "outputs": [
    {
     "name": "stdout",
     "output_type": "stream",
     "text": [
      "LIDC-IDRI-0704_002_3.125000\r"
     ]
    },
    {
     "name": "stdout",
     "output_type": "stream",
     "text": [
      "LIDC-IDRI-0704_487_-300.000000\n",
      "Done\n"
     ]
    }
   ],
   "source": [
    "# filepath = r'LIDC-IDRI-0075\\01-01-2000-NA-NA-14796\\30083.000000-NA-95222'\n",
    "# filepath = r'LIDC-IDRI-0527\\01-01-2000-NA-NA-75447\\5485.000000-ChestRoutine  3.0  B31f-48007'\n",
    "filepath = r'LIDC-IDRI-0704\\01-01-2000-NA-CT THORAX WO IV CONTRA-50143\\31273.000000-Recon 2 ACRIN LARGE-98412'\n",
    "# filepath = r'LIDC-IDRI-0845\\01-01-2000-NA-NA-15546\\1624.000000-NLST TLC VOL B30F-61989'\n",
    "# filepath = r'LIDC-IDRI-1008\\01-01-2000-NA-NA-10827\\5491.000000-NA-53182'\n",
    "\n",
    "for i in range(0, 1000):\n",
    "    # Fetch DICOM\n",
    "    blob_name = filepath + f\"\\\\1-{i+1:03}.dcm\"\n",
    "    try:\n",
    "        blob_client = container_client.get_blob_client(blob_name)\n",
    "        blob_data = blob_client.download_blob().readall()\n",
    "    except:\n",
    "        print(\"\\nDone\")\n",
    "        break\n",
    "    blob_stream = BytesIO(blob_data)\n",
    "    ds = dcmread(blob_stream)\n",
    "    \n",
    "    # Image transformations\n",
    "    image_base = rescale_img(ds, ds.pixel_array)\n",
    "    image_base = window_img(image_base, -300, 2000)\n",
    "    \n",
    "    image_prev = get_image(change_file_num(blob_name, -1))\n",
    "    image_next = get_image(change_file_num(blob_name, 1))\n",
    "    \n",
    "    image = np.stack([image_prev, image_base, image_next], axis=-1)\n",
    "    \n",
    "    # Saves slice location in filename - used later for mapping to annotations\n",
    "    slice_location = ds.ImagePositionPatient[2]\n",
    "    patient_id = ds.PatientID\n",
    "    filename = f\"{patient_id}_{i+1:03}_{slice_location}\"\n",
    "    \n",
    "    image_path = f'/home/andrew/ITRI-LungCancer/sample/{filename}.png'\n",
    "    cv2.imwrite(image_path, image)\n",
    "    print(f\"\\r{filename}\", end=\"\\r\", flush=True)"
   ]
  }
 ],
 "metadata": {
  "kernelspec": {
   "display_name": ".venv",
   "language": "python",
   "name": "python3"
  },
  "language_info": {
   "codemirror_mode": {
    "name": "ipython",
    "version": 3
   },
   "file_extension": ".py",
   "mimetype": "text/x-python",
   "name": "python",
   "nbconvert_exporter": "python",
   "pygments_lexer": "ipython3",
   "version": "3.10.12"
  }
 },
 "nbformat": 4,
 "nbformat_minor": 2
}
