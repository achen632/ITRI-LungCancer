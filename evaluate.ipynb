{
 "cells": [
  {
   "cell_type": "markdown",
   "metadata": {},
   "source": [
    "# Imports"
   ]
  },
  {
   "cell_type": "code",
   "execution_count": 1,
   "metadata": {},
   "outputs": [],
   "source": [
    "from ultralytics import YOLO\n",
    "import numpy as np\n",
    "import eval_helper as help"
   ]
  },
  {
   "cell_type": "code",
   "execution_count": 2,
   "metadata": {},
   "outputs": [],
   "source": [
    "# !rm -rf /home/andrew/ITRI-LungCancer/outputs\n",
    "# !mkdir /home/andrew/ITRI-LungCancer/outputs/\n",
    "# !mkdir /home/andrew/ITRI-LungCancer/outputs/{imgs,histograms}"
   ]
  },
  {
   "cell_type": "code",
   "execution_count": 3,
   "metadata": {},
   "outputs": [
    {
     "name": "stdout",
     "output_type": "stream",
     "text": [
      "Finished LIDC-IDRI-0346, 654 remaining. Precision: 0.214, Recall: 0.806, F1 Score: 0.338\r"
     ]
    }
   ],
   "source": [
    "blob_container_client = help.get_container_client()\n",
    "model = YOLO('/home/andrew/ITRI-LungCancer/YOLO/model_classify_rgb.pt')\n",
    "img_path = '/home/andrew/ITRI-LungCancer/outputs/imgs'\n",
    "hist_path = '/home/andrew/ITRI-LungCancer/outputs/histograms'\n",
    "final_results = []\n",
    "starting_patient_id = 544\n",
    "starting_patient_id = 1\n",
    "# starting_patient_id = 556\n",
    "# starting_patient_id = 984\n",
    "\n",
    "# Go though test patients\n",
    "iterations = 1000\n",
    "for patient_index in range(iterations):\n",
    "    \n",
    "    # Arrays to track labels\n",
    "    image_paths = []\n",
    "    labels_boxes = []\n",
    "    labels_cls = []\n",
    "    preds = []\n",
    "    \n",
    "    # Go through each patients' blob files (DICOM)\n",
    "    patient_id = f'LIDC-IDRI-{starting_patient_id+patient_index:04}'\n",
    "    blob_list = help.get_blob_list(blob_container_client, patient_id)\n",
    "    for i, blob_name in enumerate(blob_list):\n",
    "        \n",
    "        # Retrieve dicom then get slice depth\n",
    "        dicom = help.get_dicom(blob_container_client, blob_name)\n",
    "        slice_depth = dicom.ImagePositionPatient[2]\n",
    "        \n",
    "        # Get annotations then add cls and bbox\n",
    "        anns = help.get_anns_from_slice(patient_id, slice_depth)\n",
    "        help.add_cls_from_anns(labels_cls, i, anns)\n",
    "        label = help.ann_to_bbox(anns)\n",
    "        labels_boxes.append(label)\n",
    "        \n",
    "        # Stack three slices for input\n",
    "        image_base = help.dicom_to_img(dicom)\n",
    "        image_prev, image_next = help.get_context_imgs(blob_container_client, blob_name)\n",
    "        image = np.stack([image_prev, image_base, image_next], axis=-1)\n",
    "        \n",
    "        # Inference then save boxes\n",
    "        result = model(image, verbose=False, iou=0, conf=0.1)[0]\n",
    "        preds.append(help.getBBoxes(result))\n",
    "        \n",
    "        # Save images to sample_out\n",
    "        filename = f'{img_path}/{patient_id}_{i}.png'\n",
    "        help.draw_boxes(filename, result, anns)\n",
    "    \n",
    "    # Arrays to filter bboxes\n",
    "    indices = []\n",
    "    preds_filtered = []\n",
    "    labels_filtered = []\n",
    "\n",
    "    for i, (pred, label) in enumerate(zip(preds, labels_boxes)):\n",
    "        # Remove slices that don't have enough contiguous slices\n",
    "        if help.get_num_relevant_slices(i, preds) < 4:\n",
    "            pred = []\n",
    "        if help.get_num_relevant_slices(i, labels_boxes) < 4:\n",
    "            label = []\n",
    "        \n",
    "        # Ignore null entries\n",
    "        if pred == [] and label == []:\n",
    "            continue\n",
    "        \n",
    "        # Add to arrays\n",
    "        indices.append(i)\n",
    "        preds_filtered.append(pred)\n",
    "        labels_filtered.append(label)\n",
    "        \n",
    "    # Extract nodules from indices and save to results array\n",
    "    p_nods = help.get_nodules(indices, preds_filtered)\n",
    "    l_nods = help.get_nodules(indices, labels_filtered)\n",
    "    final_results.append((p_nods, l_nods))\n",
    "    \n",
    "    # Save histogram of nodules\n",
    "    help.save_histogram(hist_path, indices, preds_filtered, labels_filtered, patient_id)\n",
    "    \n",
    "    prec, rec, f1 = help.evaluate(final_results)\n",
    "    print(f'Finished {patient_id}, {iterations-patient_index-1} remaining. Precision: {prec:.03f}, Recall: {rec:.03f}, F1 Score: {f1:.03f}', end='\\r')"
   ]
  }
 ],
 "metadata": {
  "kernelspec": {
   "display_name": "env",
   "language": "python",
   "name": "python3"
  },
  "language_info": {
   "codemirror_mode": {
    "name": "ipython",
    "version": 3
   },
   "file_extension": ".py",
   "mimetype": "text/x-python",
   "name": "python",
   "nbconvert_exporter": "python",
   "pygments_lexer": "ipython3",
   "version": "3.10.12"
  }
 },
 "nbformat": 4,
 "nbformat_minor": 2
}
